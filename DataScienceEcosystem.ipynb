{
  "metadata": {
    "kernelspec": {
      "name": "python",
      "display_name": "Python (Pyodide)",
      "language": "python"
    },
    "language_info": {
      "codemirror_mode": {
        "name": "python",
        "version": 3
      },
      "file_extension": ".py",
      "mimetype": "text/x-python",
      "name": "python",
      "nbconvert_exporter": "python",
      "pygments_lexer": "ipython3",
      "version": "3.8"
    }
  },
  "nbformat_minor": 5,
  "nbformat": 4,
  "cells": [
    {
      "id": "e0f27998-d656-4fa8-bc35-d42c91500b2f",
      "cell_type": "markdown",
      "source": "# Data Science Tools and Ecosystem",
      "metadata": {}
    },
    {
      "id": "046857f6-ca10-47dd-8bb5-4db21601760d",
      "cell_type": "markdown",
      "source": "In this notebook, Data Science Tools and Ecosystem are summarized.",
      "metadata": {}
    },
    {
      "id": "92534019-ed9a-4569-94ae-180062769f26",
      "cell_type": "markdown",
      "source": "Some of the popular languages that Data Scientists use are:\n1. Python\n2. R\n3. SQL\n",
      "metadata": {}
    },
    {
      "id": "8cbf1eb0-0572-4945-95f0-7240f41d9b80",
      "cell_type": "markdown",
      "source": "Some of the commonly used libraries used by Data Scientists include:\n1. Pandas\n2. NumPy\n3. Matplotlib\n",
      "metadata": {}
    },
    {
      "id": "141ac2b8-8795-4364-8d2d-728cba576c6c",
      "cell_type": "markdown",
      "source": "| Data Science Tools |\n|--------------------|\n| Jupyter Notebook   |\n| RStudio            |\n| Apache Zeppelin    |\n",
      "metadata": {}
    },
    {
      "id": "f766adce-9d7d-4b60-843f-8355701e8094",
      "cell_type": "markdown",
      "source": "### Below are a few examples of evaluating arithmetic expressions in Python",
      "metadata": {}
    },
    {
      "id": "0dd41e52-68d4-45b2-a308-f62c6f0aaec5",
      "cell_type": "code",
      "source": "# This is a simple arithmetic expression to multiply then add integers\nresult = (3*4) + 5\nresult\n",
      "metadata": {
        "trusted": true
      },
      "outputs": [
        {
          "execution_count": 1,
          "output_type": "execute_result",
          "data": {
            "text/plain": "17"
          },
          "metadata": {}
        }
      ],
      "execution_count": 1
    },
    {
      "id": "b67671e1-254e-43b7-b894-46a2e121f7dd",
      "cell_type": "code",
      "source": "# This will convert 200 minutes to hours by dividing by 60\nhours = 200 / 60\nhours\n",
      "metadata": {
        "trusted": true
      },
      "outputs": [
        {
          "execution_count": 2,
          "output_type": "execute_result",
          "data": {
            "text/plain": "3.3333333333333335"
          },
          "metadata": {}
        }
      ],
      "execution_count": 2
    },
    {
      "id": "a1f7b10d-8893-4a44-8850-7bce7d1c18bc",
      "cell_type": "markdown",
      "source": "**Objectives:**\n\n- List popular languages for Data Science\n- Understand the commonly used libraries in Data Science\n- Identify development environments and open-source tools for Data Science\n- Perform basic arithmetic operations in Python\n- Convert time units using Python expressions\n",
      "metadata": {}
    },
    {
      "id": "a53495cc-c421-437c-badb-17dcdc086495",
      "cell_type": "markdown",
      "source": "## Author\nAimboon Wiratsin\n",
      "metadata": {}
    }
  ]
}